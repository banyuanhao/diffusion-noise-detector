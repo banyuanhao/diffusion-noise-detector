{
 "cells": [
  {
   "cell_type": "code",
   "execution_count": 4,
   "metadata": {},
   "outputs": [
    {
     "name": "stdout",
     "output_type": "stream",
     "text": [
      "scheduler_DPMSolverSDEScheduler_natural.json\n",
      "0.69\n",
      "scheduler_DDIMScheduler_natural.json\n",
      "0.64\n",
      "scheduler_CMStochasticIterativeScheduler_natural.json\n",
      "1.0\n",
      "scheduler_DDIMScheduler_natural_0.5.json\n",
      "0.1111111111111111\n",
      "scheduler_DDPMScheduler_resample.json\n",
      "0.145\n",
      "scheduler_DDIMScheduler_natural_0.01.json\n",
      "0.5806451612903226\n",
      "scheduler_TCDScheduler_natural.json\n",
      "0.65\n",
      "scheduler_DDIMScheduler_natural_0.05.json\n",
      "0.6\n",
      "scheduler_EulerAncestralDiscreteScheduler_resample.json\n",
      "0.18\n",
      "scheduler_CMStochasticIterativeScheduler_resample.json\n",
      "0.96\n",
      "scheduler_DPMSolverSDEScheduler_resample.json\n",
      "0.18\n",
      "scheduler_EulerAncestralDiscreteScheduler_natural.json\n",
      "0.165\n",
      "scheduler_DDPMScheduler_natural.json\n",
      "0.155\n",
      "scheduler_TCDScheduler_resample.json\n",
      "0.105\n",
      "scheduler_KDPM2AncestralDiscreteScheduler_resample.json\n",
      "0.24\n",
      "scheduler_DDIMScheduler_natural_0.2.json\n",
      "0.5166666666666667\n",
      "scheduler_KDPM2AncestralDiscreteScheduler_natural.json\n",
      "0.405\n"
     ]
    }
   ],
   "source": [
    "import json\n",
    "import os\n",
    "# return the path to all the json files in the directory /home/banyh2000/odfn/scripts/rebuttal/data/generalization\n",
    "path = '/home/banyh2000/odfn/scripts/rebuttal/data/generalization'\n",
    "names = os.listdir(path)\n",
    "for name in names:\n",
    "    path_name = os.path.join(path, name)\n",
    "    with open(path_name, 'r') as f:\n",
    "        print(name)\n",
    "        data = json.load(f)\n",
    "        # compute the number of the data in the data list that is higher than 0.7\n",
    "        data_ = [d for d in data if d > 0.7]\n",
    "        print(len(data_)/len(data))\n"
   ]
  },
  {
   "cell_type": "code",
   "execution_count": 2,
   "metadata": {},
   "outputs": [
    {
     "name": "stdout",
     "output_type": "stream",
     "text": [
      "scheduler_natural_24_24_areas.json\n",
      "1481.9983177962613\n",
      "scheduler_natural_18_18_areas.json\n",
      "1101.8735481168387\n",
      "scheduler_natural_30_30_areas.json\n",
      "1597.0089289570176\n",
      "scheduler_natural_12_12_areas.json\n",
      "694.1068326971036\n"
     ]
    }
   ],
   "source": [
    "import json\n",
    "import os\n",
    "import numpy as np\n",
    "path = '/home/banyh2000/odfn/scripts/rebuttal/data/generalization/'\n",
    "names = os.listdir(path)\n",
    "names = [name for name in names if 'areas' in name]\n",
    "for name in names:\n",
    "    path_name = os.path.join(path, name)\n",
    "    with open(path_name, 'r') as f:\n",
    "        print(name)\n",
    "        data = json.load(f)\n",
    "        # compute the number of the data in the data list that is higher than 0.7\n",
    "        print(np.mean(data))"
   ]
  }
 ],
 "metadata": {
  "kernelspec": {
   "display_name": "odfn",
   "language": "python",
   "name": "python3"
  },
  "language_info": {
   "codemirror_mode": {
    "name": "ipython",
    "version": 3
   },
   "file_extension": ".py",
   "mimetype": "text/x-python",
   "name": "python",
   "nbconvert_exporter": "python",
   "pygments_lexer": "ipython3",
   "version": "3.10.14"
  }
 },
 "nbformat": 4,
 "nbformat_minor": 2
}
