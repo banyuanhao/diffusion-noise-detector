{
 "cells": [
  {
   "cell_type": "code",
   "execution_count": 9,
   "metadata": {},
   "outputs": [
    {
     "name": "stdout",
     "output_type": "stream",
     "text": [
      "output_functional_10.json\n",
      "0.49\n",
      "output_functional_15.json\n",
      "0.81\n",
      "output_functional_8.json\n",
      "0.335\n",
      "output_re.json\n",
      "0.085\n",
      "output_shift_0.8.json\n",
      "0.085\n",
      "output_shift_1.2.json\n",
      "0.29\n",
      "output_shift_1.5.json\n",
      "0.9\n",
      "output_natural.json\n",
      "0.445\n",
      "output_random.json\n",
      "0.01\n"
     ]
    }
   ],
   "source": [
    "import json\n",
    "import numpy as np\n",
    "import os\n",
    "threshold = 0.75\n",
    "path = '/home/banyh2000/odfn/wrapup_data/handcraft'\n",
    "names = os.listdir(path)\n",
    "for name in names:\n",
    "    with open(os.path.join(path, name)) as f:\n",
    "        data = json.load(f)\n",
    "        data = np.array(data)\n",
    "    length = data.shape[0]\n",
    "    print(name)\n",
    "    print(np.sum(data>threshold)/length)\n"
   ]
  },
  {
   "cell_type": "code",
   "execution_count": 3,
   "metadata": {},
   "outputs": [],
   "source": [
    "\n",
    "\n",
    "import random\n",
    "import numpy as np\n",
    "from typing import TypeVar\n",
    "T = TypeVar('T')\n",
    "from PIL import Image\n",
    "from pathlib import Path\n",
    "import os\n",
    "from tqdm import tqdm\n",
    "from matplotlib import pyplot as plt\n",
    "\n",
    "\n",
    "# compute if the p percent of the generated bounding box is in the original bounding box\n",
    "def Con50(bounding_box_1,bounding_box_2):\n",
    "    bounding_box_2 = [bounding_box_2[0],bounding_box_2[1],bounding_box_2[2]-bounding_box_2[0],bounding_box_2[3]-bounding_box_2[1]]\n",
    "    x1 = max(bounding_box_1[0], bounding_box_2[0])\n",
    "    y1 = max(bounding_box_1[1], bounding_box_2[1])\n",
    "    x2 = min(bounding_box_1[0] + bounding_box_1[2], bounding_box_2[0] + bounding_box_2[2])\n",
    "    y2 = min(bounding_box_1[1] + bounding_box_1[3], bounding_box_2[1] + bounding_box_2[3])\n",
    "    w = max(0, x2 - x1)\n",
    "    h = max(0, y2 - y1)\n",
    "    intersection = w * h\n",
    "    iou = intersection / (bounding_box_1[2] * bounding_box_1[3])\n",
    "    return iou\n",
    "    \n",
    "    \n",
    "    \n",
    "\n",
    "bounding_box = [10,30,24,24]\n",
    "bounding_box_image = [value * 8 for value in bounding_box]\n",
    "\n",
    "values = []\n",
    "for i in range(200):\n",
    "\n",
    "    x,y = random.randint(0,512),random.randint(0,512)\n",
    "    i,j = random.randint(0,512),random.randint(0,512)\n",
    "    if x > i:\n",
    "        x,i = i,x\n",
    "    if y > j:\n",
    "        y,j = j,y\n",
    "    bounding_box_generated = [x,y,i-x,j-y]\n",
    "    \n",
    "    iou = Con50(bounding_box_image,bounding_box_generated)\n",
    "    values.append(iou)\n",
    "    import json\n",
    "    with open('/home/banyh2000/odfn/wrapup_data/handcraft/output_random.json','w') as f:\n",
    "        json.dump(values,f)\n"
   ]
  }
 ],
 "metadata": {
  "kernelspec": {
   "display_name": "odfn",
   "language": "python",
   "name": "python3"
  },
  "language_info": {
   "codemirror_mode": {
    "name": "ipython",
    "version": 3
   },
   "file_extension": ".py",
   "mimetype": "text/x-python",
   "name": "python",
   "nbconvert_exporter": "python",
   "pygments_lexer": "ipython3",
   "version": "3.10.14"
  }
 },
 "nbformat": 4,
 "nbformat_minor": 2
}
